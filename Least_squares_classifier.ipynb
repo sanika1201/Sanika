{
 "cells": [
  {
   "cell_type": "code",
   "execution_count": 51,
   "metadata": {},
   "outputs": [
    {
     "ename": "ModuleNotFoundError",
     "evalue": "No module named 'seaborn'",
     "output_type": "error",
     "traceback": [
      "\u001b[1;31m---------------------------------------------------------------------------\u001b[0m",
      "\u001b[1;31mModuleNotFoundError\u001b[0m                       Traceback (most recent call last)",
      "\u001b[1;32m<ipython-input-51-1755d131e3b9>\u001b[0m in \u001b[0;36m<module>\u001b[1;34m\u001b[0m\n\u001b[0;32m     13\u001b[0m \u001b[1;32mfrom\u001b[0m \u001b[0mmatplotlib\u001b[0m\u001b[1;33m.\u001b[0m\u001b[0mcolors\u001b[0m \u001b[1;32mimport\u001b[0m \u001b[0mListedColormap\u001b[0m\u001b[1;33m\u001b[0m\u001b[1;33m\u001b[0m\u001b[0m\n\u001b[0;32m     14\u001b[0m \u001b[0mget_ipython\u001b[0m\u001b[1;33m(\u001b[0m\u001b[1;33m)\u001b[0m\u001b[1;33m.\u001b[0m\u001b[0mrun_line_magic\u001b[0m\u001b[1;33m(\u001b[0m\u001b[1;34m'matplotlib'\u001b[0m\u001b[1;33m,\u001b[0m \u001b[1;34m'inline'\u001b[0m\u001b[1;33m)\u001b[0m\u001b[1;33m\u001b[0m\u001b[1;33m\u001b[0m\u001b[0m\n\u001b[1;32m---> 15\u001b[1;33m \u001b[1;32mimport\u001b[0m \u001b[0mseaborn\u001b[0m \u001b[1;32mas\u001b[0m \u001b[0msns\u001b[0m\u001b[1;33m\u001b[0m\u001b[1;33m\u001b[0m\u001b[0m\n\u001b[0m\u001b[0;32m     16\u001b[0m \u001b[1;33m\u001b[0m\u001b[0m\n\u001b[0;32m     17\u001b[0m \u001b[1;32mimport\u001b[0m \u001b[0mpickle\u001b[0m\u001b[1;33m\u001b[0m\u001b[1;33m\u001b[0m\u001b[0m\n",
      "\u001b[1;31mModuleNotFoundError\u001b[0m: No module named 'seaborn'"
     ]
    }
   ],
   "source": [
    "import numpy as np\n",
    "import pandas as pd\n",
    "from sklearn.linear_model import LogisticRegression\n",
    "from glob import glob\n",
    "import os\n",
    "\n",
    "from sklearn.preprocessing import StandardScaler\n",
    "\n",
    "from scipy import stats\n",
    "\n",
    "import matplotlib\n",
    "import matplotlib.pyplot as plt\n",
    "from matplotlib.colors import ListedColormap\n",
    "%matplotlib inline\n",
    "import seaborn as sns\n",
    "\n",
    "import pickle\n",
    "import time\n",
    "from tqdm import tqdm\n",
    "\n",
    "from sklearn.linear_model import LogisticRegression\n",
    "from sklearn.svm import LinearSVC\n",
    "from sklearn.svm import SVC\n",
    "from sklearn.ensemble import RandomForestClassifier\n",
    "from sklearn.neural_network import MLPClassifier\n",
    "from sklearn.neighbors import KNeighborsClassifier\n",
    "\n",
    "from rerf.rerfClassifier import rerfClassifier\n",
    "\n",
    "import warnings\n",
    "warnings.simplefilter('ignore')"
   ]
  },
  {
   "cell_type": "code",
   "execution_count": 52,
   "metadata": {},
   "outputs": [],
   "source": [
    "import pandas as pd\n",
    "import numpy as np\n",
    "\n",
    "data = pd.read_csv('D:/Studies/Research_Lab_sem_1/Codes/classifier/features.csv')\n",
    "X = data.loc[:,'0':'273'].values\n",
    "y = data.loc[:,'274'].values\n",
    "\n",
    "from sklearn.model_selection import train_test_split\n",
    "\n",
    "X_train, X_test, y_train, y_test = train_test_split(X,y,test_size=0.2,random_state =0)\n",
    "\n",
    "\n",
    "from sklearn.preprocessing import StandardScaler\n",
    "sc = StandardScaler()\n",
    "X_train = sc.fit_transform(X_train)\n",
    "X_test = sc.fit_transform(X_test)"
   ]
  },
  {
   "cell_type": "code",
   "execution_count": 59,
   "metadata": {},
   "outputs": [
    {
     "data": {
      "text/plain": [
       "10"
      ]
     },
     "execution_count": 59,
     "metadata": {},
     "output_type": "execute_result"
    }
   ],
   "source": [
    "np.count_nonzero(y_test==1)"
   ]
  },
  {
   "cell_type": "code",
   "execution_count": 48,
   "metadata": {},
   "outputs": [
    {
     "name": "stdout",
     "output_type": "stream",
     "text": [
      "[[75 64]\n",
      " [ 2  8]]\n",
      "Accuracy RF \t0.5570469798657718\n",
      "Balanced Accuracy RF \t0.6697841726618705\n",
      "Sensitivity RF \t0.539568345323741\n",
      "Specificity RF \t0.8\n",
      "F-1 Score RF \t0.5570469798657718\n"
     ]
    },
    {
     "data": {
      "image/png": "[encoded data removed]",
      "text/plain": [
       "<Figure size 432x288 with 1 Axes>"
      ]
     },
     "metadata": {
      "needs_background": "light"
     },
     "output_type": "display_data"
    }
   ],
   "source": [
    "y_lin = y_train\n",
    "y_lin[y_train == 0] = -1\n",
    "#print(y_lin)\n",
    "beta = np.linalg.pinv(X_train.T @ X_train) @ (X_train.T @ y_lin)\n",
    "#print (beta)\n",
    "line_x = np.linspace(0, 9)\n",
    "line_y = -beta[0] / beta[2] - (beta[1] / beta[2]) * line_x\n",
    "y_pred = X_test@beta\n",
    "#print (y_pred)\n",
    "y_est = []\n",
    "for i in y_pred:\n",
    "    if (i>0):\n",
    "        y_est.append(1)\n",
    "    else:\n",
    "        y_est.append(0)\n",
    "\n",
    "#print (y_est)\n",
    "y_predict = np.array(y_est)\n",
    "\n",
    "cm = confusion_matrix(y_test, y_predict)\n",
    "print(cm)\n",
    "print('Accuracy RF \\t' + str(accuracy_score(y_test, y_predict)))\n",
    "\n",
    "b_acc = balanced_accuracy_score(y_test, y_predict)\n",
    "print('Balanced Accuracy RF \\t' + str(b_acc))\n",
    "\n",
    "sensitivity = float(cm[0,0])/float((cm[0,0]+cm[0,1]))\n",
    "print('Sensitivity RF \\t' + str(sensitivity))\n",
    "\n",
    "specificity = float(cm[1,1])/float((cm[1,0]+cm[1,1]))\n",
    "print('Specificity RF \\t' + str(specificity))\n",
    "\n",
    "from sklearn.metrics import f1_score\n",
    "f1 = f1_score(y_test, y_predict, average='micro')  \n",
    "print('F-1 Score RF \\t' + str(f1))\n",
    "\n",
    "import sklearn.metrics as metrics\n",
    "# Compute ROC curve and ROC area for each class\n",
    "fpr, tpr, threshold = metrics.roc_curve(y_test, y_predict)\n",
    "roc_auc = metrics.auc(fpr, tpr)\n",
    "\n",
    "import matplotlib.pyplot as plt\n",
    "plt.title('Receiver Operating Characteristic: Ordinary Least Squares')\n",
    "plt.plot(fpr, tpr, 'b', label = 'AUC = %0.2f' % roc_auc)\n",
    "plt.legend(loc = 'lower right')\n",
    "plt.plot([0, 1], [0, 1],'r--')\n",
    "plt.xlim([0, 1])\n",
    "plt.ylim([0, 1])\n",
    "plt.ylabel('True Positive Rate')\n",
    "plt.xlabel('False Positive Rate')\n",
    "plt.show()"
   ]
  },
  {
   "cell_type": "code",
   "execution_count": 49,
   "metadata": {},
   "outputs": [],
   "source": [
    "####PCA reducing dimensions\n",
    "from sklearn.decomposition import PCA\n",
    "\n",
    "pca = PCA(n_components=10)\n",
    "\n",
    "X_train_pca = pca.fit_transform(X_train)\n",
    "X_test_pca = pca.transform(X_test)"
   ]
  },
  {
   "cell_type": "code",
   "execution_count": 50,
   "metadata": {},
   "outputs": [
    {
     "name": "stdout",
     "output_type": "stream",
     "text": [
      "[[90 49]\n",
      " [ 2  8]]\n",
      "Accuracy RF \t0.6577181208053692\n",
      "Balanced Accuracy RF \t0.7237410071942446\n",
      "Sensitivity RF \t0.6474820143884892\n",
      "Specificity RF \t0.8\n",
      "F-1 Score RF \t0.6577181208053692\n"
     ]
    },
    {
     "data": {
      "image/png": "[encoded data removed]",
      "text/plain": [
       "<Figure size 432x288 with 1 Axes>"
      ]
     },
     "metadata": {
      "needs_background": "light"
     },
     "output_type": "display_data"
    }
   ],
   "source": [
    "y_lin = y_train\n",
    "y_lin[y_train == 0] = -1\n",
    "#print(y_lin)\n",
    "beta = np.linalg.pinv(X_train_pca.T @ X_train_pca) @ (X_train_pca.T @ y_lin)\n",
    "#print (beta)\n",
    "line_x = np.linspace(0, 9)\n",
    "line_y = -beta[0] / beta[2] - (beta[1] / beta[2]) * line_x\n",
    "y_pred = X_test_pca@beta\n",
    "#print (y_pred)\n",
    "y_est = []\n",
    "for i in y_pred:\n",
    "    if (i>0):\n",
    "        y_est.append(1)\n",
    "    else:\n",
    "        y_est.append(0)\n",
    "\n",
    "#print (y_est)\n",
    "y_predict = np.array(y_est)\n",
    "\n",
    "cm = confusion_matrix(y_test, y_predict)\n",
    "print(cm)\n",
    "print('Accuracy RF \\t' + str(accuracy_score(y_test, y_predict)))\n",
    "\n",
    "b_acc = balanced_accuracy_score(y_test, y_predict)\n",
    "print('Balanced Accuracy RF \\t' + str(b_acc))\n",
    "\n",
    "sensitivity = float(cm[0,0])/float((cm[0,0]+cm[0,1]))\n",
    "print('Sensitivity RF \\t' + str(sensitivity))\n",
    "\n",
    "specificity = float(cm[1,1])/float((cm[1,0]+cm[1,1]))\n",
    "print('Specificity RF \\t' + str(specificity))\n",
    "\n",
    "from sklearn.metrics import f1_score\n",
    "f1 = f1_score(y_test, y_predict, average='micro')  \n",
    "print('F-1 Score RF \\t' + str(f1))\n",
    "\n",
    "import sklearn.metrics as metrics\n",
    "# Compute ROC curve and ROC area for each class\n",
    "fpr, tpr, threshold = metrics.roc_curve(y_test, y_predict)\n",
    "roc_auc = metrics.auc(fpr, tpr)\n",
    "\n",
    "import matplotlib.pyplot as plt\n",
    "plt.title('Receiver Operating Characteristic: Ordinary Least Squares')\n",
    "plt.plot(fpr, tpr, 'b', label = 'AUC = %0.2f' % roc_auc)\n",
    "plt.legend(loc = 'lower right')\n",
    "plt.plot([0, 1], [0, 1],'r--')\n",
    "plt.xlim([0, 1])\n",
    "plt.ylim([0, 1])\n",
    "plt.ylabel('True Positive Rate')\n",
    "plt.xlabel('False Positive Rate')\n",
    "plt.show()"
   ]
  },
  {
   "cell_type": "code",
   "execution_count": null,
   "metadata": {},
   "outputs": [],
   "source": []
  },
  {
   "cell_type": "code",
   "execution_count": null,
   "metadata": {},
   "outputs": [],
   "source": []
  },
  {
   "cell_type": "code",
   "execution_count": null,
   "metadata": {},
   "outputs": [],
   "source": []
  },
  {
   "cell_type": "code",
   "execution_count": null,
   "metadata": {},
   "outputs": [],
   "source": []
  },
  {
   "cell_type": "code",
   "execution_count": null,
   "metadata": {},
   "outputs": [],
   "source": []
  },
  {
   "cell_type": "code",
   "execution_count": null,
   "metadata": {},
   "outputs": [],
   "source": []
  }
 ],
 "metadata": {
  "kernelspec": {
   "display_name": "Python 3",
   "language": "python",
   "name": "python3"
  },
  "language_info": {
   "codemirror_mode": {
    "name": "ipython",
    "version": 3
   },
   "file_extension": ".py",
   "mimetype": "text/x-python",
   "name": "python",
   "nbconvert_exporter": "python",
   "pygments_lexer": "ipython3",
   "version": "3.7.4"
  }
 },
 "nbformat": 4,
 "nbformat_minor": 2
}

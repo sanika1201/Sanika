{
 "cells": [
  {
   "cell_type": "code",
   "execution_count": 20,
   "metadata": {},
   "outputs": [],
   "source": [
    "import csv\n",
    "import numpy as np\n",
    "import matplotlib.pyplot as plt\n",
    "\n",
    "from numpy import array\n",
    "from numpy import hstack\n",
    "from tensorflow.keras import Model\n",
    "from tensorflow.keras import Sequential\n",
    "from tensorflow.keras.layers import Input\n",
    "from tensorflow.keras.layers import Dense\n",
    "from tensorflow.keras.layers import concatenate\n",
    "from sklearn.model_selection import train_test_split"
   ]
  },
  {
   "cell_type": "markdown",
   "metadata": {},
   "source": [
    "Importing data from weather details csv and cases data from csv"
   ]
  },
  {
   "cell_type": "code",
   "execution_count": 26,
   "metadata": {},
   "outputs": [
    {
     "name": "stdout",
     "output_type": "stream",
     "text": [
      "     Temperature (Avg) (F)  Humidity (%)  Wind Speed (mph)  \\\n",
      "1                43.988696      0.753380          8.523350   \n",
      "2                43.085734      0.894599          8.743975   \n",
      "3                43.539163      0.651771          8.551864   \n",
      "4                43.391064      0.240997          7.900357   \n",
      "5                43.048590      0.156750          8.054362   \n",
      "..                     ...           ...               ...   \n",
      "264              68.840000      5.020000         11.020000   \n",
      "265              68.110000      5.180000         10.220000   \n",
      "266              68.630000      5.690000         10.260000   \n",
      "267              68.960000      5.530000         10.280000   \n",
      "268              68.490000      5.370000         10.270000   \n",
      "\n",
      "     Avg Sunshine hours  Active  confirmed  \n",
      "1             11.390743     1.0        1.0  \n",
      "2             11.479082     9.0        8.0  \n",
      "3             11.175436    15.0        6.0  \n",
      "4             11.224372    39.0       24.0  \n",
      "5             11.462693    60.0       21.0  \n",
      "..                  ...     ...        ...  \n",
      "264           12.630000    22.0        5.0  \n",
      "265           12.970000    26.0        4.0  \n",
      "266           13.190000    32.0        6.0  \n",
      "267           13.420000    35.0        3.0  \n",
      "268           12.920000    41.0        6.0  \n",
      "\n",
      "[268 rows x 6 columns]\n"
     ]
    }
   ],
   "source": [
    "import pandas as pd\n",
    "d = pd.read_csv('C:/Users/sanik/Anaconda3/envs/projTensorFlow/weatherCov.csv')\n",
    "t = d.loc[1:268]\n",
    "t = t[t.columns[1:5]] \n",
    "c = pd.read_csv('C:/Users/sanik/Anaconda3/envs/projTensorFlow/concaseCOVID.csv')\n",
    "y = c.loc[1:]\n",
    "y = y[y.columns[1:3]] \n",
    "data = t.join(y)\n",
    "print(data)"
   ]
  },
  {
   "cell_type": "markdown",
   "metadata": {},
   "source": [
    "Data preperation: Time series binned data."
   ]
  },
  {
   "cell_type": "code",
   "execution_count": 9,
   "metadata": {},
   "outputs": [],
   "source": [
    "X = data[data.columns[0:5]]\n",
    "y = data[data.columns[5:6]]\n",
    "X = np.asarray(X)\n",
    "y = np.asarray(y)\n",
    "X_t,y_t = [],[]\n",
    "bin_win = 4\n",
    "for st in range(0,len(X)-bin_win):\n",
    "    en = st + bin_win\n",
    "    seg = X[st:en,:]\n",
    "    X_t.append(seg)\n",
    "    y_t.append(y[en])\n",
    "p = np.asarray(X_t)\n",
    "X_all = p.reshape(len(p),20)\n",
    "y_all = np.concatenate(y_t).ravel()"
   ]
  },
  {
   "cell_type": "markdown",
   "metadata": {},
   "source": [
    "Splitting into training and testing set"
   ]
  },
  {
   "cell_type": "code",
   "execution_count": 10,
   "metadata": {},
   "outputs": [],
   "source": [
    "X_train, X_test, y_train, y_test = \\\n",
    "        train_test_split(X_all, y_all, test_size=10, random_state=42)"
   ]
  },
  {
   "cell_type": "markdown",
   "metadata": {},
   "source": [
    "Training and predicting the MLP regression model"
   ]
  },
  {
   "cell_type": "code",
   "execution_count": 11,
   "metadata": {},
   "outputs": [
    {
     "name": "stdout",
     "output_type": "stream",
     "text": [
      "[12.  0. 11.  0.  2.  4.  0.  0. 72.  0.]\n",
      "[17.50894416  0.20684182 14.93628303  2.25119377  7.31597035  7.16067648\n",
      "  6.94077097  1.35709307 52.62977584  2.53304617]\n"
     ]
    },
    {
     "name": "stderr",
     "output_type": "stream",
     "text": [
      "C:\\Users\\sanik\\Anaconda3\\envs\\projTensorFlow\\lib\\site-packages\\sklearn\\neural_network\\multilayer_perceptron.py:566: ConvergenceWarning: Stochastic Optimizer: Maximum iterations (200) reached and the optimization hasn't converged yet.\n",
      "  % self.max_iter, ConvergenceWarning)\n"
     ]
    }
   ],
   "source": [
    "from sklearn.neural_network import MLPRegressor\n",
    "clf = MLPRegressor(hidden_layer_sizes=100, activation='relu', solver='adam') \n",
    "clf.fit(X_train,y_train)\n",
    "y_pred = clf.predict(X_test)\n",
    "print(y_test)\n",
    "print(y_pred)"
   ]
  },
  {
   "cell_type": "markdown",
   "metadata": {},
   "source": [
    "Predicted validation score"
   ]
  },
  {
   "cell_type": "code",
   "execution_count": 13,
   "metadata": {},
   "outputs": [
    {
     "data": {
      "text/plain": [
       "0.8829281904799057"
      ]
     },
     "execution_count": 13,
     "metadata": {},
     "output_type": "execute_result"
    }
   ],
   "source": [
    "clf.score(X_test,y_test)"
   ]
  },
  {
   "cell_type": "markdown",
   "metadata": {},
   "source": [
    "Results on Test Data"
   ]
  },
  {
   "cell_type": "code",
   "execution_count": 15,
   "metadata": {},
   "outputs": [],
   "source": [
    "d_test = pd.read_csv('C:/Users/sanik/Anaconda3/envs/projTensorFlow/testprov.csv')\n",
    "te = d_test.loc[1:]\n",
    "X_te = te[te.columns[1:6]]\n",
    "y_te = te[te.columns[6:7]]\n",
    "X_te = np.asarray(X_te)\n",
    "y_te = np.asarray(y_te)\n",
    "X_tes,y_tes = [],[]\n",
    "bin_win = 4\n",
    "for st in range(0,len(X_te)-bin_win):\n",
    "    en = st + bin_win\n",
    "    seg = X_te[st:en,:]\n",
    "    X_tes.append(seg)\n",
    "    y_tes.append(y_te[en])\n",
    "p = np.asarray(X_tes)\n",
    "X_test = p.reshape(len(p),20)\n",
    "y_test = np.concatenate(y_tes).ravel()"
   ]
  },
  {
   "cell_type": "markdown",
   "metadata": {},
   "source": [
    "Prediction on Test data"
   ]
  },
  {
   "cell_type": "code",
   "execution_count": 18,
   "metadata": {},
   "outputs": [],
   "source": [
    "y_pred = clf.predict(X_test)\n",
    "idx = np.where(y_pred < 0)\n",
    "y_pred[idx] = 0"
   ]
  },
  {
   "cell_type": "markdown",
   "metadata": {},
   "source": [
    "Plotting predicted new cases vs Actual new cases on test province timeline"
   ]
  },
  {
   "cell_type": "code",
   "execution_count": 21,
   "metadata": {},
   "outputs": [
    {
     "data": {
      "image/png": "[encoded data removed]",
      "text/plain": [
       "<Figure size 432x288 with 1 Axes>"
      ]
     },
     "metadata": {
      "needs_background": "light"
     },
     "output_type": "display_data"
    }
   ],
   "source": [
    "width = 0.35\n",
    "ind = np.arange((len(y_pred)))\n",
    "fig = plt.figure()\n",
    "ax = fig.add_subplot(111)\n",
    "rects1 = ax.bar(ind,y_test, width, color='royalblue')\n",
    "rects2 = ax.bar(ind+width, y_pred, width, color='seagreen')\n",
    "ax.set_ylabel('Predicted new cases')\n",
    "ax.set_title('Risk assesment of new cases')\n",
    "\n",
    "ax.legend( (rects1[0], rects2[0]), ('Actual', 'Predicted') )\n",
    "\n",
    "plt.show()"
   ]
  },
  {
   "cell_type": "code",
   "execution_count": 368,
   "metadata": {},
   "outputs": [
    {
     "data": {
      "text/plain": [
       "Text(0.5, 1.0, 'Actual cases')"
      ]
     },
     "execution_count": 368,
     "metadata": {},
     "output_type": "execute_result"
    },
    {
     "data": {
      "image/png": "[encoded data removed]",
      "text/plain": [
       "<Figure size 432x288 with 1 Axes>"
      ]
     },
     "metadata": {
      "needs_background": "light"
     },
     "output_type": "display_data"
    }
   ],
   "source": [
    "plt.bar(ind,y_test,width = 0.35)\n",
    "plt.title('Actual new cases')"
   ]
  },
  {
   "cell_type": "code",
   "execution_count": 369,
   "metadata": {},
   "outputs": [
    {
     "data": {
      "text/plain": [
       "Text(0.5, 1.0, 'Predicted new cases')"
      ]
     },
     "execution_count": 369,
     "metadata": {},
     "output_type": "execute_result"
    },
    {
     "data": {
      "image/png": "[encoded data removed]",
      "text/plain": [
       "<Figure size 432x288 with 1 Axes>"
      ]
     },
     "metadata": {
      "needs_background": "light"
     },
     "output_type": "display_data"
    }
   ],
   "source": [
    "plt.bar(ind,y_pred,width = 0.35)\n",
    "plt.title('Predicted new cases')"
   ]
  }
 ],
 "metadata": {
  "kernelspec": {
   "display_name": "Python 3",
   "language": "python",
   "name": "python3"
  },
  "language_info": {
   "codemirror_mode": {
    "name": "ipython",
    "version": 3
   },
   "file_extension": ".py",
   "mimetype": "text/x-python",
   "name": "python",
   "nbconvert_exporter": "python",
   "pygments_lexer": "ipython3",
   "version": "3.7.5"
  }
 },
 "nbformat": 4,
 "nbformat_minor": 2
}

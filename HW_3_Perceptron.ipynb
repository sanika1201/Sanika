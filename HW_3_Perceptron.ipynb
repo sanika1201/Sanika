{
 "cells": [
  {
   "cell_type": "code",
   "execution_count": 96,
   "metadata": {},
   "outputs": [],
   "source": [
    "import gzip\n",
    "import numpy as np\n",
    "import matplotlib.pyplot as plt\n",
    "import cv2\n",
    "from sklearn.preprocessing import StandardScaler\n",
    "from sklearn.model_selection import train_test_split"
   ]
  },
  {
   "cell_type": "code",
   "execution_count": 4,
   "metadata": {},
   "outputs": [],
   "source": [
    "####Reading Training Data\n",
    "f = gzip.open('D:/Studies/DL/HW/Dcode/MNIST_data/train-images-idx3-ubyte.gz','r')\n",
    "image_size = 28\n",
    "num_images = 20000\n",
    "\n",
    "f.read(16)\n",
    "buf = f.read(image_size * image_size * num_images)\n",
    "data = np.frombuffer(buf, dtype=np.uint8).astype(np.float32)\n",
    "train_data = data.reshape(num_images, image_size, image_size, 1)\n",
    "train_data = data.reshape(num_images,image_size*image_size)\n",
    "\n",
    "f = gzip.open('D:/Studies/DL/HW/Dcode/MNIST_data/train-labels-idx1-ubyte.gz','r')\n",
    "image_size = 28\n",
    "num_images = 20000\n",
    "\n",
    "f.read(8)\n",
    "buf = f.read(num_images)\n",
    "labels = np.frombuffer(buf, dtype=np.uint8).astype(np.int64)\n",
    "train_labels = labels.reshape(num_images,1)"
   ]
  },
  {
   "cell_type": "code",
   "execution_count": 5,
   "metadata": {},
   "outputs": [],
   "source": [
    "####Reading Testing Data\n",
    "f = gzip.open('D:/Studies/DL/HW/Dcode/MNIST_data/t10k-images-idx3-ubyte.gz','r')\n",
    "image_size = 28\n",
    "num_images = 2000\n",
    "\n",
    "f.read(16)\n",
    "buf = f.read(image_size * image_size * num_images)\n",
    "data = np.frombuffer(buf, dtype=np.uint8).astype(np.float32)\n",
    "test_data = data.reshape(num_images, image_size, image_size, 1)\n",
    "test_data = data.reshape(num_images,image_size*image_size)\n",
    "\n",
    "f = gzip.open('D:/Studies/DL/HW/Dcode/MNIST_data/t10k-labels-idx1-ubyte.gz','r')\n",
    "image_size = 28\n",
    "num_images = 2000\n",
    "\n",
    "f.read(8)\n",
    "buf = f.read(num_images)\n",
    "labels = np.frombuffer(buf, dtype=np.uint8).astype(np.int64)\n",
    "test_labels = labels.reshape(num_images,1)"
   ]
  },
  {
   "cell_type": "code",
   "execution_count": 187,
   "metadata": {},
   "outputs": [
    {
     "data": {
      "image/png": "[encoded data removed]",
      "text/plain": [
       "<Figure size 432x288 with 1 Axes>"
      ]
     },
     "metadata": {
      "needs_background": "light"
     },
     "output_type": "display_data"
    }
   ],
   "source": [
    "img = train_data[1].reshape(28,28).astype(np.uint8)\n",
    "plt.imshow(img, cmap='gray')\n",
    "plt.show()"
   ]
  },
  {
   "cell_type": "code",
   "execution_count": 7,
   "metadata": {},
   "outputs": [
    {
     "data": {
      "text/plain": [
       "(2000, 785)"
      ]
     },
     "execution_count": 7,
     "metadata": {},
     "output_type": "execute_result"
    }
   ],
   "source": [
    "###Adding bias value to training and testing data\n",
    "input_train_data = np.insert(train_data,0,1,axis=1)\n",
    "input_train_data.shape\n",
    "\n",
    "input_test_data = np.insert(test_data,0,1,axis=1)\n",
    "input_test_data.shape"
   ]
  },
  {
   "cell_type": "code",
   "execution_count": 9,
   "metadata": {},
   "outputs": [],
   "source": [
    "####Perceptron\n",
    "def train_percep(X,y,eta,num_epochs):\n",
    "    num_feat = X.shape[1]\n",
    "    num_samples = X.shape[0]\n",
    "    w = np.zeros(num_feat)\n",
    "    #up_wt = np.zeros(num_feat)\n",
    "    y_pred_all  = -1*np.ones(num_samples)\n",
    "    errors_all = np.ones(num_samples)\n",
    "    acc_all = []\n",
    "    cost_all = []\n",
    "    \n",
    "    for epoch in range(num_epochs):\n",
    "        out = np.dot(X,w)\n",
    "        for i in range(out.shape[0]):\n",
    "            if (out[i]>0):\n",
    "                y_pred_all[i]=1\n",
    "            else:\n",
    "                y_pred_all[i]=-1\n",
    "\n",
    "        err = y - y_pred_all\n",
    "        up_wt = eta*np.dot(err,X)\n",
    "        w = w + up_wt\n",
    "\n",
    "        acc = np.count_nonzero(err)/num_samples\n",
    "        acc_all.append(1-acc)\n",
    "        errors_all = (err)**2\n",
    "        cost_all.append(0.5*np.sum(errors_all))\n",
    "    \n",
    "    return cost_all,w,acc_all\n",
    "\n",
    "def sigmoid (x):\n",
    "    return 1/(1 + np.exp(-x))\n",
    "def derivatives_sigmoid(x):\n",
    "    return x * (1 - x)\n",
    "\n",
    "def predict_per_all(X,y,w_all):\n",
    "    num_samples = X.shape[0]\n",
    "    #y_pred_all = np.zeros(num_samples)\n",
    "    out_all = np.dot(X,w_all.T)\n",
    "    y_pred = np.argmax(out_all, axis=1)\n",
    "    err = np.count_nonzero(y.ravel()-y_pred)\n",
    "    acc = err/num_samples\n",
    "    return 1-acc,y_pred,err\n",
    "\n",
    "def predict_per(X,y,w):\n",
    "    num_samples = X.shape[0]\n",
    "    y_pred_all = -1*np.ones(num_samples)\n",
    "    out = np.dot(X,w)\n",
    "    idx = np.where(out>=0)\n",
    "    y_pred_all[idx] = 1\n",
    "    err = np.count_nonzero(y-y_pred_all)\n",
    "    acc = err/num_samples\n",
    "    return y_pred_all,1-acc"
   ]
  },
  {
   "cell_type": "code",
   "execution_count": 216,
   "metadata": {},
   "outputs": [],
   "source": [
    "num_samples = X_train.shape[0]\n",
    "X_train = input_train_data\n",
    "X_test = input_test_data\n",
    "idx = np.where(train_labels == 7)[0]\n",
    "y_train = -1 * np.ones(num_samples)\n",
    "y_train[idx] = 1\n",
    "\n",
    "idx = np.where(test_labels == 0)[0]\n",
    "y_test = -1 * np.ones(input_test_data.shape[0])\n",
    "y_test[idx] = 1"
   ]
  },
  {
   "cell_type": "code",
   "execution_count": 218,
   "metadata": {},
   "outputs": [
    {
     "name": "stdout",
     "output_type": "stream",
     "text": [
      "[4186.0, 35814.0, 4186.0, 4186.0, 4186.0, 4186.0, 4186.0, 3196.0, 1526.0, 1166.0, 1130.0, 1140.0, 1148.0, 1138.0, 1122.0] [0.89535, 0.10465000000000002, 0.89535, 0.89535, 0.89535, 0.89535, 0.89535, 0.9201, 0.96185, 0.97085, 0.97175, 0.9715, 0.9713, 0.97155, 0.97195]\n"
     ]
    }
   ],
   "source": [
    "eta = 0.001\n",
    "epochs = 15\n",
    "cost1,w1,ac1= train_percep(X_train,y_train,eta,epochs)\n",
    "print(cost1,ac1)"
   ]
  },
  {
   "cell_type": "code",
   "execution_count": 219,
   "metadata": {},
   "outputs": [
    {
     "data": {
      "text/plain": [
       "[<matplotlib.lines.Line2D at 0x1edd8b6bfc8>]"
      ]
     },
     "execution_count": 219,
     "metadata": {},
     "output_type": "execute_result"
    },
    {
     "data": {
      "image/png": "[encoded data removed]",
      "text/plain": [
       "<Figure size 432x288 with 1 Axes>"
      ]
     },
     "metadata": {
      "needs_background": "light"
     },
     "output_type": "display_data"
    }
   ],
   "source": [
    "plt.plot(range(1, len(cost1)+1), np.log10(cost1), marker='o')"
   ]
  },
  {
   "cell_type": "code",
   "execution_count": 95,
   "metadata": {},
   "outputs": [
    {
     "data": {
      "text/plain": [
       "[<matplotlib.lines.Line2D at 0x1edd660cd08>]"
      ]
     },
     "execution_count": 95,
     "metadata": {},
     "output_type": "execute_result"
    },
    {
     "data": {
      "image/png": "[encoded data removed]",
      "text/plain": [
       "<Figure size 432x288 with 1 Axes>"
      ]
     },
     "metadata": {
      "needs_background": "light"
     },
     "output_type": "display_data"
    }
   ],
   "source": [
    "plt.plot(range(3, len(ac1)+1), ac1[2:], marker='o')"
   ]
  },
  {
   "cell_type": "code",
   "execution_count": 99,
   "metadata": {},
   "outputs": [],
   "source": [
    "#####Training the perceptrons\n",
    "eta = 0.001\n",
    "epochs = 15\n",
    "num_samples = input_train_data.shape[0]\n",
    "X_train = input_train_data\n",
    "X_test = input_test_data\n",
    "#X_train = StandardScaler().fit_transform(X_train)\n",
    "#X_test = StandardScaler().fit_transform(X_test)\n",
    "cost_per_class = []\n",
    "acc_per_class= []\n",
    "w_all = []\n",
    "for i in range(10):\n",
    "    idx = np.where(train_labels == i)[0]\n",
    "    y_train = -1 * np.ones(num_samples)\n",
    "    y_train[idx] = 1\n",
    "\n",
    "    idx = np.where(test_labels == i)[0]\n",
    "    y_test = -1 * np.ones(input_test_data.shape[0])\n",
    "    y_test[idx] = 1\n",
    "    cost,w,_= train_percep(X_train,y_train,eta,epochs)\n",
    "    _,acc = predict_per(X_test,y_test,w)\n",
    "    \n",
    "    cost_per_class.append(cost)\n",
    "    acc_per_class.append(acc)\n",
    "    w_all.append(w)\n",
    "    "
   ]
  },
  {
   "cell_type": "code",
   "execution_count": 100,
   "metadata": {},
   "outputs": [
    {
     "name": "stdout",
     "output_type": "stream",
     "text": [
      "Accuracy of 10 2-way classifiers\n",
      "[0.9715, 0.9825, 0.957, 0.952, 0.9525, 0.921, 0.9625, 0.9575, 0.8045, 0.8575]\n",
      "Overall accuracy\n",
      "0.794\n"
     ]
    }
   ],
   "source": [
    "####Testing and Results\n",
    "####accuracy per class for 10 2-way classifiers\n",
    "print(\"Accuracy of 10 2-way classifiers\")\n",
    "print(acc_per_class)\n",
    "####Overall accuracy \n",
    "print(\"Overall accuracy\")\n",
    "w_all = np.array(w_all)\n",
    "acc_all,y_pred_all,err_all = predict_per_all(X_test,test_labels,w_all)\n",
    "print(acc_all)"
   ]
  },
  {
   "cell_type": "code",
   "execution_count": 220,
   "metadata": {},
   "outputs": [],
   "source": [
    "####Logistic Regression\n",
    "def log_reg_train(X,y,eta,epochs):\n",
    "    num_feat = X.shape[1]\n",
    "    num_samples = X.shape[0]\n",
    "    m = num_feat\n",
    "    w = np.zeros(num_feat)\n",
    "    #up_wt = np.zeros(num_feat)\n",
    "    y_pred_all  = -1*np.ones(num_samples)\n",
    "    errors_all = np.ones(num_samples)\n",
    "    acc_all = []\n",
    "    cost_all = []\n",
    "    \n",
    "    for epoch in range(epochs):\n",
    "        out = np.dot(X,w)\n",
    "        ##activation\n",
    "        A = sigmoid(out)\n",
    "        \n",
    "        cost = (-1* (np.sum((y*np.log(A)) + (1-y)*np.log(1-A)))/m)\n",
    "        #cost = (1 / float(2*m)) * np.sum((A -y)**2)\n",
    "        dY_hat = A - y\n",
    "        dA = dY_hat * sigmoid(A)*(1-sigmoid(A))\n",
    "        \n",
    "        up_wt = (1/float(m)) * np.dot(X.T,dA.T)\n",
    "        w = w - eta*up_wt\n",
    "        \n",
    "        cost_all.append(cost)\n",
    "        #acc = np.count_nonzero(err)/num_samples\n",
    "        #acc_all.append(1-acc)\n",
    "    \n",
    "    return cost_all,w\n",
    "\n",
    "def log_reg_predict(X,y,w):\n",
    "    num_samples = y.shape[0]\n",
    "    y_pred = np.zeros(num_samples)\n",
    "    A = sigmoid(np.dot(X,w))\n",
    "    for i in range(num_samples):\n",
    "        if (A[i]>0.5):\n",
    "            y_pred[i] = 1\n",
    "        else:\n",
    "            y_pred[i] = -1\n",
    "    acc = np.count_nonzero(y - y_pred)/num_samples\n",
    "    return 1-acc\n",
    "\n",
    "def log_reg_predict_all(X,y,w_all):\n",
    "    num_samples = X.shape[0]\n",
    "    #y_pred_all = np.zeros(num_samples)\n",
    "    out_all = np.dot(X,w_all.T)\n",
    "    y_pred = np.argmax(out_all, axis=1)\n",
    "    err = np.count_nonzero(y.ravel()-y_pred)\n",
    "    acc = err/num_samples\n",
    "    return 1-acc,y_pred,err"
   ]
  },
  {
   "cell_type": "code",
   "execution_count": 221,
   "metadata": {},
   "outputs": [],
   "source": [
    "num_samples = X_train.shape[0]\n",
    "X_train = input_train_data\n",
    "X_test = input_test_data\n",
    "idx = np.where(train_labels == 0)[0]\n",
    "y_train = -1 * np.ones(num_samples)\n",
    "y_train[idx] = 1\n",
    "\n",
    "idx = np.where(test_labels == 0)[0]\n",
    "y_test = -1 * np.ones(input_test_data.shape[0])\n",
    "y_test[idx] = 1"
   ]
  },
  {
   "cell_type": "code",
   "execution_count": 222,
   "metadata": {},
   "outputs": [
    {
     "name": "stderr",
     "output_type": "stream",
     "text": [
      "d:\\studies\\dl\\hw\\dcode\\lib\\site-packages\\ipykernel_launcher.py:32: RuntimeWarning: overflow encountered in exp\n"
     ]
    },
    {
     "name": "stdout",
     "output_type": "stream",
     "text": [
      "[26.122292993630573, 12.738853503184712, 12.738853503184712, 12.738853503184712, 12.738853503184712, 12.738853503184712, 12.738853503184712, 12.738853503184712, 12.738853503184712, 12.738853503184712]\n"
     ]
    }
   ],
   "source": [
    "eta = 0.001\n",
    "epochs =10\n",
    "cost,w = log_reg_train(X_train,y_train,eta,epochs)\n",
    "print(cost)"
   ]
  },
  {
   "cell_type": "code",
   "execution_count": 223,
   "metadata": {},
   "outputs": [
    {
     "data": {
      "text/plain": [
       "[<matplotlib.lines.Line2D at 0x1edd8bded08>]"
      ]
     },
     "execution_count": 223,
     "metadata": {},
     "output_type": "execute_result"
    },
    {
     "data": {
      "image/png": "[encoded data removed]",
      "text/plain": [
       "<Figure size 432x288 with 1 Axes>"
      ]
     },
     "metadata": {
      "needs_background": "light"
     },
     "output_type": "display_data"
    }
   ],
   "source": [
    "plt.plot(range(1, len(cost)+1), np.log10(cost), marker='o')"
   ]
  },
  {
   "cell_type": "code",
   "execution_count": 202,
   "metadata": {},
   "outputs": [
    {
     "name": "stderr",
     "output_type": "stream",
     "text": [
      "d:\\studies\\dl\\hw\\dcode\\lib\\site-packages\\ipykernel_launcher.py:32: RuntimeWarning: overflow encountered in exp\n"
     ]
    },
    {
     "data": {
      "text/plain": [
       "0.9125"
      ]
     },
     "execution_count": 202,
     "metadata": {},
     "output_type": "execute_result"
    }
   ],
   "source": [
    "log_reg_predict(X_test,y_test,w)"
   ]
  },
  {
   "cell_type": "code",
   "execution_count": 203,
   "metadata": {},
   "outputs": [
    {
     "name": "stderr",
     "output_type": "stream",
     "text": [
      "d:\\studies\\dl\\hw\\dcode\\lib\\site-packages\\ipykernel_launcher.py:32: RuntimeWarning: overflow encountered in exp\n",
      "d:\\studies\\dl\\hw\\dcode\\lib\\site-packages\\ipykernel_launcher.py:18: RuntimeWarning: divide by zero encountered in log\n",
      "d:\\studies\\dl\\hw\\dcode\\lib\\site-packages\\numpy\\core\\fromnumeric.py:90: RuntimeWarning: invalid value encountered in reduce\n",
      "  return ufunc.reduce(obj, axis, dtype, out, **passkwargs)\n"
     ]
    }
   ],
   "source": [
    "#####Training the perceptrons for LR\n",
    "eta = 0.001\n",
    "epochs = 15\n",
    "num_samples = input_train_data.shape[0]\n",
    "X_train = input_train_data\n",
    "X_test = input_test_data\n",
    "#X_train = StandardScaler().fit_transform(X_train)\n",
    "#X_test = StandardScaler().fit_transform(X_test)\n",
    "cost_per_class = []\n",
    "acc_per_class= []\n",
    "w_all = []\n",
    "for i in range(10):\n",
    "    idx = np.where(train_labels == i)[0]\n",
    "    y_train = -1 * np.ones(num_samples)\n",
    "    y_train[idx] = 1\n",
    "\n",
    "    idx = np.where(test_labels == i)[0]\n",
    "    y_test = -1 * np.ones(input_test_data.shape[0])\n",
    "    y_test[idx] = 1\n",
    "    cost,w= log_reg_train(X_train,y_train,eta,epochs)\n",
    "    acc = log_reg_predict(X_test,y_test,w)\n",
    "    \n",
    "    cost_per_class.append(cost)\n",
    "    acc_per_class.append(acc)\n",
    "    w_all.append(w)"
   ]
  },
  {
   "cell_type": "code",
   "execution_count": 204,
   "metadata": {},
   "outputs": [
    {
     "name": "stdout",
     "output_type": "stream",
     "text": [
      "Accuracy of 10 2-way classifiers\n",
      "[0.9125, 0.883, 0.8905, 0.8965, 0.8915, 0.9105, 0.911, 0.8975, 0.904, 0.903]\n",
      "Overall accuracy\n",
      "0.6455\n"
     ]
    }
   ],
   "source": [
    "####Testing and Results\n",
    "####accuracy per class for 10 2-way classifiers\n",
    "print(\"Accuracy of 10 2-way classifiers\")\n",
    "print(acc_per_class)\n",
    "####Overall accuracy \n",
    "print(\"Overall accuracy\")\n",
    "w_all = np.array(w_all)\n",
    "acc_all,y_pred_all,err_all = log_reg_predict_all(X_test,test_labels,w_all)\n",
    "print(acc_all)"
   ]
  },
  {
   "cell_type": "code",
   "execution_count": null,
   "metadata": {},
   "outputs": [],
   "source": []
  }
 ],
 "metadata": {
  "kernelspec": {
   "display_name": "Python 3",
   "language": "python",
   "name": "python3"
  },
  "language_info": {
   "codemirror_mode": {
    "name": "ipython",
    "version": 3
   },
   "file_extension": ".py",
   "mimetype": "text/x-python",
   "name": "python",
   "nbconvert_exporter": "python",
   "pygments_lexer": "ipython3",
   "version": "3.7.4"
  }
 },
 "nbformat": 4,
 "nbformat_minor": 4
}
